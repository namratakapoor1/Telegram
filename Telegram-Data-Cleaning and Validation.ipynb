{
 "cells": [
  {
   "cell_type": "code",
   "execution_count": 168,
   "metadata": {},
   "outputs": [],
   "source": [
    "import json\n",
    "import os,sys\n",
    "import subprocess\n",
    "import re\n",
    "import pandas as pd\n",
    "df=pd.read_json(r'C:\\Users\\SimpS\\Downloads\\TelegramDesktop\\ChatExport\\result2.json', encoding='utf8')\n",
    "ques=['can ','what ','where ','when ','how ','which ','who ','why ','suggest ']\n",
    "\n",
    "\n",
    "\n",
    "f = open(r'C:\\Users\\SimpS\\Downloads\\TelegramDesktop\\ChatExport\\QA.txt','a', encoding='utf8'); \n",
    "sys.stdout=f\n",
    "\n",
    "#Whole message block till file end\n",
    "lf=df['messages'][0:-1]\n",
    "\n",
    "pf=df['messages']\n",
    "\n",
    " \n",
    "for i in range(0,len(lf)):\n",
    "    if \"reply_to_message_id\" in pf[i]: \n",
    "        if pf[i]['text']!=\"\"  : \n",
    "            if (pf[i][\"from\"]==('Raj') or pf[i][\"from\"]==('Tim')):\n",
    "                rid=pf[i]['reply_to_message_id'] \n",
    "                dec=pf[i]['id']-pf[i]['reply_to_message_id']\n",
    "                for j in range(i-dec,i-1): \n",
    "                    if  rid==pf[j]['id']:\n",
    "                            for k, que in enumerate(ques):\n",
    "                                if (str(pf[j]['text']).lower().find(que))!=-1:\n",
    "                                    print(que)\n",
    "                                    print( \"Question :\" +str(pf[j][\"from\"])+\" :\"+ str(pf[j]['text'])) \n",
    "                                    print (pf[i][\"from\"] +\" Answer: \" + str(pf[i]['text'])) \n",
    "                                    break \n",
    "                    j-1\n",
    "                  \n",
    "            \n",
    "  \n",
    "                "
   ]
  },
  {
   "cell_type": "code",
   "execution_count": 165,
   "metadata": {},
   "outputs": [],
   "source": [
    "import json\n",
    "import os,sys\n",
    "import subprocess\n",
    "import re\n",
    "import pandas as pd\n",
    "df=pd.read_json(r'C:\\Users\\SimpS\\Downloads\\TelegramDesktop\\ChatExport\\result2.json', encoding='utf8')\n",
    "ques=['can ','what ','where ','when ','how ','which ','who ','why ','suggest ']\n",
    "\n",
    "\n",
    "\n",
    "f = open(r'C:\\Users\\SimpS\\Downloads\\TelegramDesktop\\ChatExport\\QAre.txt','a', encoding='utf8'); \n",
    "sys.stdout=f\n",
    "\n",
    "#Whole message block till file end\n",
    "lf=df['messages'][0:-1]\n",
    "\n",
    "pf=df['messages']\n",
    "\n",
    " \n",
    "for i in range(0,len(lf)):\n",
    "    if \"reply_to_message_id\" in pf[i]: \n",
    "        if pf[i]['text']!=\"\"  : \n",
    "            if (pf[i][\"from\"]==('Raj') or pf[i][\"from\"]==('Tim')):\n",
    "                rid=pf[i]['reply_to_message_id'] \n",
    "                dec=pf[i]['id']-pf[i]['reply_to_message_id']\n",
    "                for j in range(i-dec,i-1): \n",
    "                    if  rid==pf[j]['id']:\n",
    "                            for k, que in enumerate(ques):\n",
    "                                if (str(pf[j]['text']).lower().find(que))!=-1:\n",
    "                                    print(que)\n",
    "                                    q=str(pf[j]['text'])\n",
    "                                    q1=re.sub('{.*?}', '', q)\n",
    "                                    print( \"Question :\" +str(pf[j][\"from\"])+\" :\"+ q1) \n",
    "                                    ans=str(pf[i]['text'])\n",
    "                                    ans1=re.sub('{.*?}', '', ans)\n",
    "                                    print (pf[i][\"from\"] +\" Answer: \" + ans1) \n",
    "                                    break \n",
    "                    j-1\n",
    "                  \n",
    "                \n",
    "                   \n",
    "\n",
    "\n",
    "\n"
   ]
  },
  {
   "cell_type": "code",
   "execution_count": 63,
   "metadata": {},
   "outputs": [
    {
     "name": "stdout",
     "output_type": "stream",
     "text": [
      "yes\n"
     ]
    }
   ],
   "source": [
    "if pf[1346]['text'].lower().find(greet[0])!=1:\n",
    "    print (\"yes\")\n"
   ]
  },
  {
   "cell_type": "code",
   "execution_count": 115,
   "metadata": {},
   "outputs": [
    {
     "name": "stdout",
     "output_type": "stream",
     "text": [
      "false\n"
     ]
    }
   ],
   "source": [
    "import pandas as pd\n",
    "\n",
    "df=pd.read_csv(r'C:\\Users\\SimpS\\Downloads\\TelegramDesktop\\ChatExport\\Q_and_A_messages.csv',encoding='utf8')\n",
    "\n",
    "fullstring=df['Questions'][0].lower()\n",
    "substring='good morning'\n",
    "if fullstring.find(substring) == -1:                   \n",
    "    print('false')\n",
    "else:\n",
    "    print('true')"
   ]
  },
  {
   "cell_type": "code",
   "execution_count": 133,
   "metadata": {},
   "outputs": [
    {
     "name": "stdout",
     "output_type": "stream",
     "text": [
      "No\n"
     ]
    }
   ],
   "source": [
    "if str(pf[789]['text']).lower().find(greet)!=-1:\n",
    "    print('yes')\n",
    "else:\n",
    "    print('No')"
   ]
  },
  {
   "cell_type": "code",
   "execution_count": null,
   "metadata": {},
   "outputs": [],
   "source": []
  }
 ],
 "metadata": {
  "kernelspec": {
   "display_name": "Python 3",
   "language": "python",
   "name": "python3"
  },
  "language_info": {
   "codemirror_mode": {
    "name": "ipython",
    "version": 3
   },
   "file_extension": ".py",
   "mimetype": "text/x-python",
   "name": "python",
   "nbconvert_exporter": "python",
   "pygments_lexer": "ipython3",
   "version": "3.8.3"
  }
 },
 "nbformat": 4,
 "nbformat_minor": 4
}
